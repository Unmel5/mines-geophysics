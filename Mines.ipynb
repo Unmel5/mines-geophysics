import numpy as np 
import matplotlib.pyplot as plt 
import scipy.signal as sig 
import dascore as dc 
def staltatrigger(timeseries, samplingrate, stawindowduration, ltawindowduration, stepsize):  #upload to github repo, 
        #window lengths 
    stawindowlength = int(stawindowduration * samplingrate) 
    ltawindowlength = int(ltawindowduration * samplingrate) 
    stepsizesamples = int(stepsize * samplingrate) 

    #empty lists for STA and LTA values 
    stavalues = [] 
    ltavalues = [] 

    #switched to convolve from append to perform a "convolution" between two arrays. np.empty(n, - ltawidowlength) 
    stawindow = np.convolve(signal, np.ones(sta_window_length)) 
    ltawindow = np.convolve(singal, np.ones(lta_window_length)) 
    stavalues = np.zeros
    #iterate through the seismic signal with moving windows  
    for i in range(len(signal) - ltawindowlength): 
        #update windows with the current signal segment 
        windowslice = slice(i, i + stawindowlength)
        stawindow = timeseries[windowslice] 
        ltawindow = timeseries[windowslice] #i + stawindow - ltawindowlength

        #calculate the absolute amplitude values 
        absstawindow = np.abs(stawindow) 
        absltawindow = np.abs(ltawindow) 

        #move windows by stepsize samples 
        
        i += int(stepsize * samplingrate) 


    #conver lists to numpy arrays 
    stavalues = np.array(stavalues) 
    ltavalues = np.array(ltavalues) 
    ratio = np.array(ratio) 
