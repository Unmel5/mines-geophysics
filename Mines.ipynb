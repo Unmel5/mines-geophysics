{
 "cells": [
  {
   "cell_type": "code",
   "execution_count": 3,
   "id": "15327955-0d91-466e-ae81-cc6715a7a5d5",
   "metadata": {},
   "outputs": [],
   "source": [
    "import numpy as np \n",
    "import matplotlib.pyplot as plt \n",
    "import scipy.signal as sig \n",
    "import dascore as dc "
   ]
  },
  {
   "cell_type": "code",
   "execution_count": 4,
   "id": "ca6a1b61-cf29-4493-8cb1-ae4afd21f2d6",
   "metadata": {},
   "outputs": [
    {
     "name": "stdout",
     "output_type": "stream",
     "text": [
      "\u001b[33mDEPRECATION: Loading egg at /opt/homebrew/lib/python3.11/site-packages/matplotlib-3.4.3-py3.11-macosx-14-arm64.egg is deprecated. pip 24.3 will enforce this behaviour change. A possible replacement is to use pip for package installation.. Discussion can be found at https://github.com/pypa/pip/issues/12330\u001b[0m\u001b[33m\n",
      "\u001b[0mCollecting dascore\n",
      "  Using cached dascore-0.1.1-py3-none-any.whl.metadata (12 kB)\n",
      "Requirement already satisfied: h5py in /opt/homebrew/lib/python3.11/site-packages (from dascore) (3.10.0)\n",
      "Collecting matplotlib>=3.5 (from dascore)\n",
      "  Using cached matplotlib-3.9.0-cp311-cp311-macosx_11_0_arm64.whl.metadata (11 kB)\n",
      "Requirement already satisfied: numpy>=1.24 in /opt/homebrew/lib/python3.11/site-packages (from dascore) (1.26.4)\n",
      "Requirement already satisfied: packaging in /opt/homebrew/lib/python3.11/site-packages (from dascore) (23.2)\n",
      "Requirement already satisfied: pandas>=2.0 in /opt/homebrew/lib/python3.11/site-packages (from dascore) (2.2.2)\n",
      "Collecting pooch>=1.2 (from dascore)\n",
      "  Using cached pooch-1.8.2-py3-none-any.whl.metadata (10 kB)\n",
      "Collecting pydantic>2.1 (from dascore)\n",
      "  Using cached pydantic-2.7.3-py3-none-any.whl.metadata (108 kB)\n",
      "Collecting rich (from dascore)\n",
      "  Using cached rich-13.7.1-py3-none-any.whl.metadata (18 kB)\n",
      "Requirement already satisfied: scipy>=1.11.0 in /opt/homebrew/lib/python3.11/site-packages (from dascore) (1.13.1)\n",
      "Collecting tables>=3.7 (from dascore)\n",
      "  Using cached tables-3.9.2.tar.gz (4.7 MB)\n",
      "  Installing build dependencies ... \u001b[?25ldone\n",
      "\u001b[?25h  Getting requirements to build wheel ... \u001b[?25lerror\n",
      "  \u001b[1;31merror\u001b[0m: \u001b[1msubprocess-exited-with-error\u001b[0m\n",
      "  \n",
      "  \u001b[31m×\u001b[0m \u001b[32mGetting requirements to build wheel\u001b[0m did not run successfully.\n",
      "  \u001b[31m│\u001b[0m exit code: \u001b[1;36m1\u001b[0m\n",
      "  \u001b[31m╰─>\u001b[0m \u001b[31m[12 lines of output]\u001b[0m\n",
      "  \u001b[31m   \u001b[0m /var/folders/f3/q506szf54x57lwflbyc7ykvh0000gn/T/H5close07hkjqvg.c:1:10: fatal error: 'H5public.h' file not found\n",
      "  \u001b[31m   \u001b[0m #include \"H5public.h\"\n",
      "  \u001b[31m   \u001b[0m          ^~~~~~~~~~~~\n",
      "  \u001b[31m   \u001b[0m 1 error generated.\n",
      "  \u001b[31m   \u001b[0m cpuinfo failed, assuming no CPU features: 'flags'\n",
      "  \u001b[31m   \u001b[0m * Using Python 3.11.6 (main, Oct  2 2023, 13:45:54) [Clang 15.0.0 (clang-1500.0.40.1)]\n",
      "  \u001b[31m   \u001b[0m * Found cython 3.0.10\n",
      "  \u001b[31m   \u001b[0m * USE_PKGCONFIG: True\n",
      "  \u001b[31m   \u001b[0m .. ERROR:: Could not find a local HDF5 installation.\n",
      "  \u001b[31m   \u001b[0m    You may need to explicitly state where your local HDF5 headers and\n",
      "  \u001b[31m   \u001b[0m    library can be found by setting the ``HDF5_DIR`` environment\n",
      "  \u001b[31m   \u001b[0m    variable or by using the ``--hdf5`` command-line option.\n",
      "  \u001b[31m   \u001b[0m \u001b[31m[end of output]\u001b[0m\n",
      "  \n",
      "  \u001b[1;35mnote\u001b[0m: This error originates from a subprocess, and is likely not a problem with pip.\n",
      "\u001b[1;31merror\u001b[0m: \u001b[1msubprocess-exited-with-error\u001b[0m\n",
      "\n",
      "\u001b[31m×\u001b[0m \u001b[32mGetting requirements to build wheel\u001b[0m did not run successfully.\n",
      "\u001b[31m│\u001b[0m exit code: \u001b[1;36m1\u001b[0m\n",
      "\u001b[31m╰─>\u001b[0m See above for output.\n",
      "\n",
      "\u001b[1;35mnote\u001b[0m: This error originates from a subprocess, and is likely not a problem with pip.\n",
      "\u001b[?25hNote: you may need to restart the kernel to use updated packages.\n"
     ]
    }
   ],
   "source": [
    "pip install dascore"
   ]
  },
  {
   "cell_type": "code",
   "execution_count": 2,
   "id": "7c6dd7f9-e6a4-4ee4-80fe-7bd06ee45498",
   "metadata": {},
   "outputs": [
    {
     "name": "stdout",
     "output_type": "stream",
     "text": [
      "\u001b[33mDEPRECATION: Loading egg at /opt/homebrew/lib/python3.11/site-packages/matplotlib-3.4.3-py3.11-macosx-14-arm64.egg is deprecated. pip 24.3 will enforce this behaviour change. A possible replacement is to use pip for package installation.. Discussion can be found at https://github.com/pypa/pip/issues/12330\u001b[0m\u001b[33m\n",
      "\u001b[0mCollecting scipy\n",
      "  Using cached scipy-1.13.1-cp311-cp311-macosx_12_0_arm64.whl.metadata (60 kB)\n",
      "Requirement already satisfied: numpy<2.3,>=1.22.4 in /opt/homebrew/lib/python3.11/site-packages (from scipy) (1.26.4)\n",
      "Downloading scipy-1.13.1-cp311-cp311-macosx_12_0_arm64.whl (30.3 MB)\n",
      "\u001b[2K   \u001b[38;2;114;156;31m━━━━━━━━━━━━━━━━━━━━━━━━━━━━━━━━━━━━━━━━\u001b[0m \u001b[32m30.3/30.3 MB\u001b[0m \u001b[31m15.1 MB/s\u001b[0m eta \u001b[36m0:00:00\u001b[0mm eta \u001b[36m0:00:01\u001b[0m0:01\u001b[0m:01\u001b[0m\n",
      "\u001b[?25hInstalling collected packages: scipy\n",
      "Successfully installed scipy-1.13.1\n",
      "Note: you may need to restart the kernel to use updated packages.\n"
     ]
    }
   ],
   "source": [
    "pip install scipy \n"
   ]
  },
  {
   "cell_type": "code",
   "execution_count": 1,
   "id": "ff245ab3-d0c6-4878-bcd4-9f54071a5c88",
   "metadata": {},
   "outputs": [],
   "source": [
    "def staltatrigger(timeseries, samplingrate, stawindowduration, ltawindowduration, stepsize):  #upload to github repo, \n",
    "        #window lengths \n",
    "    stawindowlength = int(stawindowduration * samplingrate) \n",
    "    ltawindowlength = int(ltawindowduration * samplingrate) \n",
    "    stepsizesamples = int(stepsize * samplingrate) \n",
    "\n",
    "    #empty lists for STA and LTA values \n",
    "    stavalues = [] \n",
    "    ltavalues = [] \n",
    "\n",
    "    #switched to convolve from append to perform a \"convolution\" between two arrays. np.empty(n, - ltawidowlength) \n",
    "    stawindow = np.convolve(signal, np.ones(sta_window_length)) \n",
    "    ltawindow = np.convolve(singal, np.ones(lta_window_length)) \n",
    "    stavalues = np.zeros\n",
    "    #iterate through the seismic signal with moving windows  \n",
    "    for i in range(len(signal) - ltawindowlength): \n",
    "        #update windows with the current signal segment \n",
    "        windowslice = slice(i, i + stawindowlength)\n",
    "        stawindow = timeseries[windowslice] \n",
    "        ltawindow = timeseries[windowslice] #i + stawindow - ltawindowlength\n",
    "\n",
    "        #calculate the absolute amplitude values \n",
    "        absstawindow = np.abs(stawindow) \n",
    "        absltawindow = np.abs(ltawindow) \n",
    "\n",
    "        #move windows by stepsize samples \n",
    "        \n",
    "        i += int(stepsize * samplingrate) \n",
    "\n",
    "\n",
    "    #conver lists to numpy arrays \n",
    "    stavalues = np.array(stavalues) \n",
    "    ltavalues = np.array(ltavalues) \n",
    "    ratio = np.array(ratio) \n"
   ]
  },
  {
   "cell_type": "code",
   "execution_count": null,
   "id": "2bed7c2a-5e9e-47af-bb5b-bf0e32bec80a",
   "metadata": {},
   "outputs": [],
   "source": []
  }
 ],
 "metadata": {
  "kernelspec": {
   "display_name": "Python 3 (ipykernel)",
   "language": "python",
   "name": "python3"
  },
  "language_info": {
   "codemirror_mode": {
    "name": "ipython",
    "version": 3
   },
   "file_extension": ".py",
   "mimetype": "text/x-python",
   "name": "python",
   "nbconvert_exporter": "python",
   "pygments_lexer": "ipython3",
   "version": "3.11.6"
  }
 },
 "nbformat": 4,
 "nbformat_minor": 5
}
