{
 "cells": [
  {
   "cell_type": "code",
   "execution_count": 3,
   "id": "15327955-0d91-466e-ae81-cc6715a7a5d5",
   "metadata": {},
   "outputs": [],
   "source": [
    "import numpy as np \n",
    "import matplotlib.pyplot as plt \n",
    "import scipy.signal as sig do \n",
    "import dascore as dc "
   ]
  },
  {
   "cell_type": "code",
   "execution_count": 1,
   "id": "ff245ab3-d0c6-4878-bcd4-9f54071a5c88",
   "metadata": {},
   "outputs": [],
   "source": [
    "def staltatrigger(timeseries, samplingrate, stawindowduration, ltawindowduration, stepsizesamples):  #upload to github repo, \n",
    "        #window lengths \n",
    "    stawindowlength = int(stawindowduration * samplingrate) \n",
    "    ltawindowlength = int(ltawindowduration * samplingrate) \n",
    "    stepsizesamples = int(stepsize * samplingrate) \n",
    "\n",
    "    stavalues = np.empty(len(timeseries) - ltawindowlength)\n",
    "    ltavalues = np.empty(len(timeseries) - ltawindowlength) \n",
    "\n",
    "    sta[stawindow:] = sta[stawindow:] - sta[:-stawindow] \n",
    "    lta[ltawindow:] = lta[ltawindow:] - lta[:ltawindow] \n",
    "    #iterate through the seismic signal with moving windows  \n",
    "    for i in range(len(signal) - ltawindowlength): \n",
    "        #update windows with the current signal segment \n",
    "        windowslice = slice(i, i + stawindowlength)\n",
    "        stawindow = timeseries[windowslice] \n",
    "        ltawindow = timeseries[windowslice] #i + stawindow - ltawindowlength\n",
    "\n",
    "        #calculate the absolute amplitude values \n",
    "        absstawindow = np.abs(stawindow) \n",
    "        absltawindow = np.abs(ltawindow) \n",
    "\n",
    "        stavalues[i] = np.mean(absstawindow) \n",
    "        ltavalues[i] = np.mean(absltawindow) \n",
    "\n",
    "        i += stepsizesamples\n",
    "    \n",
    "    return stavalues, ltavalues \n",
    "    #conver lists to numpy arrays \n",
    "    stavalues = np.array(stavalues) \n",
    "    ltavalues = np.array(ltavalues) \n",
    "    ratio = np.array(ratio) \n"
   ]
  },
  {
   "cell_type": "code",
   "execution_count": null,
   "id": "2bed7c2a-5e9e-47af-bb5b-bf0e32bec80a",
   "metadata": {},
   "outputs": [],
   "source": []
  }
 ],
 "metadata": {
  "kernelspec": {
   "display_name": "Python 3 (ipykernel)",
   "language": "python",
   "name": "python3"
  },
  "language_info": {
   "codemirror_mode": {
    "name": "ipython",
    "version": 3
   },
   "file_extension": ".py",
   "mimetype": "text/x-python",
   "name": "python",
   "nbconvert_exporter": "python",
   "pygments_lexer": "ipython3",
   "version": "3.11.6"
  }
 },
 "nbformat": 4,
 "nbformat_minor": 5
}
