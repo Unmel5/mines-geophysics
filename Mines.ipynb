{
 "cells": [
  {
   "cell_type": "code",
   "execution_count": 3,
   "id": "15327955-0d91-466e-ae81-cc6715a7a5d5",
   "metadata": {},
   "outputs": [],
   "source": [
    "import numpy as np \n",
    "import matplotlib.pyplot as plt \n",
    "import scipy.signal as sig do \n",
    "import dascore as dc "
   ]
  },
  {
   "cell_type": "code",
   "execution_count": 1,
   "id": "ff245ab3-d0c6-4878-bcd4-9f54071a5c88",
   "metadata": {},
   "outputs": [],
   "source": [
    "def staltatrigger(timeseries, samplingrate, stawindowduration, ltawindowduration, stepsizesamples):  #implementing the STA/LTA method for seismic event detection. \n",
    "\n",
    "    \n",
    "    ltawindowlength = int(ltawindowduration * samplingrate) \n",
    "    stepsizesamples = int(stepsize * samplingrate) \n",
    "\n",
    "\n",
    "    #np.empty(len(timeseries) = an array of a specified shape w/o values. \n",
    "    #len(timeseries) - ltawindowlength = enough space to store STA value for each psoition in the timeseries. LTA requires a number of previous samples \n",
    "    stavalues = np.empty(len(timeseries) - ltawindowlength) \n",
    "    ltavalues = np.empty(len(timeseries) - ltawindowlength) \n",
    "    ratio = np.zeros(len(timeseries) - ltawindowlength) #np.zeros = array of a specific type, all entries are zero here. \n",
    "\n",
    "\n",
    "   #from the paper: ...continuously calculated average energy... in two consecutive moving-time windows...\" (Page 1896)\n",
    "    for i in range(ltawindowlength, len(timeseries) - stawindowlength, stepsizesample):  #range: ltawindowlength: to make sure there is enough data available before the current i to calculate LTA\n",
    "        #start of the STA winodw is at index i, end of the STA window is stawindowlength\n",
    "        stastart = i #define the start and end points of the STA/LTA windows \n",
    "        staend = i + stawindowlength \n",
    "        ltastart = i - ltawindowlength \n",
    "        ltaend = i \n",
    "    #sta is calculated over a short term window starting from current index i, this helps to capture the short-term behavior of teh signal starting from the current index \n",
    "\n",
    "    #Arrays that store STA, LTA and STA/LTA ratio values that are a placeholder initiliazed to zero. The array is the input timeseries minues the LTA window length \n",
    "    #from the paper: Equations (1) and (2) on Page 1897\n",
    "    #equation 1: STA, Ns: number of samples in the short-term window, determines the length of the window over the average calculated\n",
    "    #yk,n: absolute value of the signal, Summation: the sum is taken over the short-term window, from the Nsth sample. \n",
    "    #Averaging: the sum is divided by Ns\n",
    "    #equation 2: LTA, NL: same as STA but for long-term window, summation: the sum is taken over the long-term window, from the -Nl-th sample to the 0th sample\n",
    "    #averaging: the sum is divided by Nl\n",
    "        stavalues[i - ltawindow[ = np.mean(np.abs(timeseries[stastart:staend[)) #yk,n: np.abs(timeseries[stastart:staend]), absolute values of the signal in Short-term window\n",
    "        ltavalues[i - ltawindowlength] = np.mean(np.abs(timeseries[ltastart:ltaend]))\n",
    "    #from the paper (for the code above): equation 1 and equation 2 where STA/LTA are averages over specified window lengths \n",
    "\n",
    "        #the ratio R = STA/LTA page 1897\n",
    "        ratio = stavalues / ltavalues \n",
    "\n",
    "        return stavalues, ltavalues, ratio \n",
    "                                                      \n",
    "#exaple usage \n",
    "\n",
    "samplingrate = 100.0 #hz \n",
    "stawindowduration = 1.0 #in seconds\n",
    "ltawindowduration = 10.0 #in seconds \n",
    "stepsizeduration = 0.1 # in seconds \n",
    "\n",
    "timesseries = np.random.randn(1000)\n",
    "sta, lta, staltaratio = staltatrigger(timeseries, samplingrate, stawindowduration, ltawindowduration, stepsizeduration) \n",
    "\n",
    "print(sta[:10]]) \n",
    "print(lta[:10]]) \n",
    "print(staltaratio[:10]) \n",
    "\n",
    "\n",
    "\n",
    "\n"
   ]
  },
  {
   "cell_type": "code",
   "execution_count": null,
   "id": "2bed7c2a-5e9e-47af-bb5b-bf0e32bec80a",
   "metadata": {},
   "outputs": [],
   "source": []
  }
 ],
 "metadata": {
  "kernelspec": {
   "display_name": "Python 3 (ipykernel)",
   "language": "python",
   "name": "python3"
  },
  "language_info": {
   "codemirror_mode": {
    "name": "ipython",
    "version": 3
   },
   "file_extension": ".py",
   "mimetype": "text/x-python",
   "name": "python",
   "nbconvert_exporter": "python",
   "pygments_lexer": "ipython3",
   "version": "3.11.6"
  }
 },
 "nbformat": 4,
 "nbformat_minor": 5
}
